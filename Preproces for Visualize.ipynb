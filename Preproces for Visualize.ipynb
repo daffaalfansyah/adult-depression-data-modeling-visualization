{
 "cells": [
  {
   "cell_type": "markdown",
   "id": "561cddbe-30e3-4b11-a6d1-7afda1672c4a",
   "metadata": {},
   "source": [
    "# Import Libraries pandas"
   ]
  },
  {
   "cell_type": "code",
   "execution_count": 26,
   "id": "298aa6f5-c7b4-409e-bef1-901ea5254d03",
   "metadata": {},
   "outputs": [],
   "source": [
    "import pandas as pd"
   ]
  },
  {
   "cell_type": "markdown",
   "id": "51b7c792-c316-4038-975e-7f6b6738d7ac",
   "metadata": {},
   "source": [
    "# Load the dataset"
   ]
  },
  {
   "cell_type": "code",
   "execution_count": 29,
   "id": "945ed8b4-4a22-4f30-aec3-b85c80db562a",
   "metadata": {},
   "outputs": [],
   "source": [
    "df = pd.read_csv(\"adult-depression-lghc-indicator-24-data_analyst.csv\")"
   ]
  },
  {
   "cell_type": "markdown",
   "id": "74cdfc92-ee94-459e-88d0-d904afcd8102",
   "metadata": {},
   "source": [
    "# Filter data by strata"
   ]
  },
  {
   "cell_type": "code",
   "execution_count": 32,
   "id": "0e11ee45-4b60-4335-af03-0e94fea0b5db",
   "metadata": {},
   "outputs": [],
   "source": [
    "sex_df = df[df['Strata'] == 'Sex']\n",
    "race_df = df[df['Strata'] == 'Race-Ethnicity']\n",
    "education_df = df[df['Strata'] == 'Education']\n",
    "income_df = df[df['Strata'] == 'Income']"
   ]
  },
  {
   "cell_type": "markdown",
   "id": "be745f8e-2699-41ef-84fb-d92d71d6bf41",
   "metadata": {},
   "source": [
    "# Show the first few rows of each category"
   ]
  },
  {
   "cell_type": "code",
   "execution_count": 35,
   "id": "422f1ab3-069a-429c-b624-9f10817b01c5",
   "metadata": {},
   "outputs": [
    {
     "name": "stdout",
     "output_type": "stream",
     "text": [
      "=== Depression by Sex ===\n",
      "    Year Strata Strata Name  Frequency  Weighted Frequency  Percent  \\\n",
      "1   2012    Sex        Male        561           1116664.0     8.12   \n",
      "2   2012    Sex      Female       1359           2163108.0    15.25   \n",
      "24  2013    Sex        Male        539           1307668.0     9.53   \n",
      "25  2013    Sex      Female       1150           2337817.0    16.52   \n",
      "47  2014    Sex        Male        469           1424768.0    10.46   \n",
      "\n",
      "    Lower 95% CL  Upper 95% CL  \n",
      "1           7.32          8.92  \n",
      "2          14.30         16.20  \n",
      "24          8.53         10.52  \n",
      "25         15.42         17.62  \n",
      "47          9.06         11.87  \n",
      "\n",
      "=== Depression by Race-Ethnicity ===\n",
      "   Year          Strata             Strata Name  Frequency  \\\n",
      "3  2012  Race-Ethnicity                   White       1314   \n",
      "4  2012  Race-Ethnicity                   Black         97   \n",
      "5  2012  Race-Ethnicity                Hispanic        412   \n",
      "6  2012  Race-Ethnicity  Asian/Pacific Islander         61   \n",
      "7  2012  Race-Ethnicity                   Other         36   \n",
      "\n",
      "   Weighted Frequency  Percent  Lower 95% CL  Upper 95% CL  \n",
      "3           1806371.0    14.57         13.67         15.46  \n",
      "4            222022.0    13.54         10.44         16.65  \n",
      "5            923174.0     9.98          8.91         11.05  \n",
      "6            220418.0     5.48          3.92          7.03  \n",
      "7            107786.0    17.34         11.09         23.60  \n",
      "\n",
      "=== Depression by Education ===\n",
      "    Year     Strata                              Strata Name  Frequency  \\\n",
      "8   2012  Education                   No High School Diploma        282   \n",
      "9   2012  Education  High School Graduate or GED Certificate        337   \n",
      "10  2012  Education              Some College or Tech School        563   \n",
      "11  2012  Education            College Graduate or Post Grad        717   \n",
      "31  2013  Education                   No High School Diploma        222   \n",
      "\n",
      "    Weighted Frequency  Percent  Lower 95% CL  Upper 95% CL  \n",
      "8             579047.0    14.43         12.60         16.26  \n",
      "9             665672.0    11.44          9.98         12.89  \n",
      "10            947473.0    13.25         11.95         14.55  \n",
      "11           1040822.0    10.00          9.11         10.90  \n",
      "31            510371.0    12.84         10.87         14.81  \n",
      "\n",
      "=== Depression by Income ===\n",
      "    Year  Strata        Strata Name  Frequency  Weighted Frequency  Percent  \\\n",
      "12  2012  Income          < $20,000        642           1118292.0    16.97   \n",
      "13  2012  Income  $20,000 - $34,999        295            490532.0    12.39   \n",
      "14  2012  Income  $35,000 - $49,999        187            296225.0     9.88   \n",
      "15  2012  Income  $50,000 - $74,999        250            440798.0    12.65   \n",
      "16  2012  Income  $75,000 - $99,999        160            290492.0    10.17   \n",
      "\n",
      "    Lower 95% CL  Upper 95% CL  \n",
      "12         15.42         18.51  \n",
      "13         10.67         14.10  \n",
      "14          8.16         11.60  \n",
      "15         10.82         14.49  \n",
      "16          8.26         12.07  \n"
     ]
    }
   ],
   "source": [
    "print(\"=== Depression by Sex ===\")\n",
    "print(sex_df.head())\n",
    "\n",
    "print(\"\\n=== Depression by Race-Ethnicity ===\")\n",
    "print(race_df.head())\n",
    "\n",
    "print(\"\\n=== Depression by Education ===\")\n",
    "print(education_df.head())\n",
    "\n",
    "print(\"\\n=== Depression by Income ===\")\n",
    "print(income_df.head())"
   ]
  },
  {
   "cell_type": "markdown",
   "id": "db335880-2aae-432b-825b-d0e0aa7980bc",
   "metadata": {},
   "source": [
    "# Save each to separate CSV files"
   ]
  },
  {
   "cell_type": "code",
   "execution_count": 38,
   "id": "11e6973b-eeab-4f31-9d04-079fd93360fb",
   "metadata": {},
   "outputs": [
    {
     "name": "stdout",
     "output_type": "stream",
     "text": [
      "\n",
      "✅ All data subsets have been saved as separate CSV files.\n"
     ]
    }
   ],
   "source": [
    "sex_df.to_csv(\"depression_by_sex.csv\", index=False)\n",
    "race_df.to_csv(\"depression_by_race.csv\", index=False)\n",
    "education_df.to_csv(\"depression_by_education.csv\", index=False)\n",
    "income_df.to_csv(\"depression_by_income.csv\", index=False)\n",
    "\n",
    "print(\"\\n✅ All data subsets have been saved as separate CSV files.\")"
   ]
  },
  {
   "cell_type": "code",
   "execution_count": null,
   "id": "df179a87-fd1d-4600-8de5-341254850c86",
   "metadata": {},
   "outputs": [],
   "source": []
  }
 ],
 "metadata": {
  "kernelspec": {
   "display_name": "Python [conda env:base] *",
   "language": "python",
   "name": "conda-base-py"
  },
  "language_info": {
   "codemirror_mode": {
    "name": "ipython",
    "version": 3
   },
   "file_extension": ".py",
   "mimetype": "text/x-python",
   "name": "python",
   "nbconvert_exporter": "python",
   "pygments_lexer": "ipython3",
   "version": "3.12.7"
  }
 },
 "nbformat": 4,
 "nbformat_minor": 5
}
